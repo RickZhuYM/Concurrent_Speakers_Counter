{
 "cells": [
  {
   "cell_type": "code",
   "execution_count": 1,
   "metadata": {
    "collapsed": false
   },
   "outputs": [
    {
     "name": "stderr",
     "output_type": "stream",
     "text": [
      "Using TensorFlow backend.\n"
     ]
    }
   ],
   "source": [
    "import numpy as np\n",
    "import soundfile as sf\n",
    "import argparse\n",
    "import os\n",
    "import keras\n",
    "import sklearn\n",
    "import librosa\n",
    "import matplotlib.pyplot as plt\n",
    "%matplotlib inline"
   ]
  },
  {
   "cell_type": "code",
   "execution_count": 2,
   "metadata": {
    "collapsed": false
   },
   "outputs": [
    {
     "data": {
      "text/plain": [
       "2.220446049250313e-16"
      ]
     },
     "execution_count": 2,
     "metadata": {},
     "output_type": "execute_result"
    }
   ],
   "source": [
    "eps = np.finfo(np.float).eps\n",
    "eps"
   ]
  },
  {
   "cell_type": "code",
   "execution_count": 3,
   "metadata": {
    "collapsed": false
   },
   "outputs": [
    {
     "name": "stderr",
     "output_type": "stream",
     "text": [
      "E:\\ProgramFiles\\Anaconda3\\lib\\site-packages\\keras\\models.py:252: UserWarning: No training configuration found in save file: the model was *not* compiled. Compile it manually.\n",
      "  warnings.warn('No training configuration found in save file: '\n"
     ]
    }
   ],
   "source": [
    "# load model\n",
    "#import warnings\n",
    "#warnings.filterwarnings(\"ignore\")\n",
    "model = keras.models.load_model(os.path.join('models', 'RNN_keras2.h5'))"
   ]
  },
  {
   "cell_type": "code",
   "execution_count": 4,
   "metadata": {
    "collapsed": false
   },
   "outputs": [
    {
     "name": "stdout",
     "output_type": "stream",
     "text": [
      "_________________________________________________________________\n",
      "Layer (type)                 Output Shape              Param #   \n",
      "=================================================================\n",
      "bidirectional_1 (Bidirection (None, 500, 60)           55680     \n",
      "_________________________________________________________________\n",
      "bidirectional_2 (Bidirection (None, 500, 40)           12960     \n",
      "_________________________________________________________________\n",
      "bidirectional_3 (Bidirection (None, 500, 80)           25920     \n",
      "_________________________________________________________________\n",
      "maxpooling1d_1 (MaxPooling1D (None, 250, 80)           0         \n",
      "_________________________________________________________________\n",
      "flatten_1 (Flatten)          (None, 20000)             0         \n",
      "_________________________________________________________________\n",
      "dense_1 (Dense)              (None, 11)                220011    \n",
      "_________________________________________________________________\n",
      "activation_1 (Activation)    (None, 11)                0         \n",
      "=================================================================\n",
      "Total params: 314,571\n",
      "Trainable params: 314,571\n",
      "Non-trainable params: 0\n",
      "_________________________________________________________________\n"
     ]
    }
   ],
   "source": [
    "# print model configuration\n",
    "model.summary()"
   ]
  },
  {
   "cell_type": "code",
   "execution_count": 5,
   "metadata": {
    "collapsed": false
   },
   "outputs": [
    {
     "name": "stdout",
     "output_type": "stream",
     "text": [
      "scaler.keys(): ['arr_1', 'arr_0']\n",
      "scaler['arr_0'].shape: (201,)\n",
      "scaler['arr_1'].shape: (201,)\n"
     ]
    }
   ],
   "source": [
    "scaler = np.load(os.path.join(\"models\", 'scaler.npz'))\n",
    "print(\"scaler.keys():\", scaler.keys())\n",
    "print(\"scaler['arr_0'].shape:\", scaler['arr_0'].shape)\n",
    "print(\"scaler['arr_1'].shape:\", scaler['arr_1'].shape)"
   ]
  },
  {
   "cell_type": "code",
   "execution_count": 6,
   "metadata": {
    "collapsed": false,
    "scrolled": true
   },
   "outputs": [
    {
     "data": {
      "text/plain": [
       "[<matplotlib.lines.Line2D at 0x9f74a0b978>]"
      ]
     },
     "execution_count": 6,
     "metadata": {},
     "output_type": "execute_result"
    },
    {
     "data": {
      "image/png": "[encoded data removed]",
      "text/plain": [
       "<matplotlib.figure.Figure at 0x9f6fc24080>"
      ]
     },
     "metadata": {},
     "output_type": "display_data"
    }
   ],
   "source": [
    "plt.plot(scaler['arr_0'])"
   ]
  },
  {
   "cell_type": "code",
   "execution_count": 7,
   "metadata": {
    "collapsed": false
   },
   "outputs": [
    {
     "data": {
      "text/plain": [
       "[<matplotlib.lines.Line2D at 0x9f75a44668>]"
      ]
     },
     "execution_count": 7,
     "metadata": {},
     "output_type": "execute_result"
    },
    {
     "data": {
      "image/png": "[encoded data removed]",
      "text/plain": [
       "<matplotlib.figure.Figure at 0x9f749e3eb8>"
      ]
     },
     "metadata": {},
     "output_type": "display_data"
    }
   ],
   "source": [
    "plt.plot(scaler['arr_1'])"
   ]
  },
  {
   "cell_type": "code",
   "execution_count": 8,
   "metadata": {
    "collapsed": true
   },
   "outputs": [],
   "source": [
    "# StandardScaler: 将每一列特征标准化为标准正太分布; \n",
    "# 计算原数据训练集的平均值和标准差，以便测试数据集使用相同的变换\n",
    "scaler = sklearn.preprocessing.StandardScaler()\n",
    "with np.load(os.path.join(\"models\", 'scaler.npz')) as data: \n",
    "    scaler.mean_ = data['arr_0']\n",
    "    scaler.scale_ = data['arr_1']"
   ]
  },
  {
   "cell_type": "code",
   "execution_count": 9,
   "metadata": {
    "collapsed": false
   },
   "outputs": [
    {
     "data": {
      "text/plain": [
       "StandardScaler(copy=True, with_mean=True, with_std=True)"
      ]
     },
     "execution_count": 9,
     "metadata": {},
     "output_type": "execute_result"
    }
   ],
   "source": [
    "scaler"
   ]
  },
  {
   "cell_type": "code",
   "execution_count": 13,
   "metadata": {
    "collapsed": false
   },
   "outputs": [],
   "source": [
    "\"\"\"默认情况下，读取单声道文件将返回一维数组; 通过always_2d = True，即使音频文件只有一个通道，音频数据也始终以二维array的形式返回\"\"\"\n",
    "audio, rate = sf.read(\"examples/5_speakers.wav\", always_2d = True)"
   ]
  },
  {
   "cell_type": "code",
   "execution_count": 14,
   "metadata": {
    "collapsed": false
   },
   "outputs": [
    {
     "name": "stdout",
     "output_type": "stream",
     "text": [
      "audio.shape: (80000, 1)\n",
      "rate: 16000\n"
     ]
    }
   ],
   "source": [
    "print(\"audio.shape:\", audio.shape)\n",
    "print(\"rate:\", rate)"
   ]
  },
  {
   "cell_type": "code",
   "execution_count": 15,
   "metadata": {
    "collapsed": true
   },
   "outputs": [],
   "source": [
    "# downmix to mono; 如果是双声道，返回的是平均值，单声道的话就是原数据\n",
    "audio = np.mean(audio, axis=1)"
   ]
  },
  {
   "cell_type": "code",
   "execution_count": 19,
   "metadata": {
    "collapsed": false
   },
   "outputs": [
    {
     "name": "stdout",
     "output_type": "stream",
     "text": [
      "X.shape: (501, 201)\n"
     ]
    }
   ],
   "source": [
    "# compute STFT\n",
    "X = np.abs(librosa.stft(audio, n_fft=400, hop_length=160)).T\n",
    "print(\"X.shape:\", X.shape)"
   ]
  },
  {
   "cell_type": "code",
   "execution_count": 20,
   "metadata": {
    "collapsed": false
   },
   "outputs": [
    {
     "data": {
      "text/plain": [
       "array([[3.4155674 , 1.0919566 , 2.0732613 , ..., 0.060234  , 0.06115313,\n",
       "        0.01823346],\n",
       "       [3.2764492 , 2.4082453 , 0.74477977, ..., 0.0918031 , 0.11035613,\n",
       "        0.11769935],\n",
       "       [1.7132052 , 0.83704525, 1.0020405 , ..., 0.02993787, 0.0271177 ,\n",
       "        0.0567355 ],\n",
       "       ...,\n",
       "       [0.7392904 , 0.56522936, 2.4636614 , ..., 0.03623526, 0.03474656,\n",
       "        0.07591407],\n",
       "       [0.07465624, 0.44215938, 2.598801  , ..., 0.3462143 , 0.13983934,\n",
       "        0.06623217],\n",
       "       [1.3865798 , 1.689534  , 3.7347288 , ..., 0.35999486, 0.27668327,\n",
       "        0.1288655 ]], dtype=float32)"
      ]
     },
     "execution_count": 20,
     "metadata": {},
     "output_type": "execute_result"
    }
   ],
   "source": [
    "X  # STFT短时傅里叶变换"
   ]
  },
  {
   "cell_type": "code",
   "execution_count": 21,
   "metadata": {
    "collapsed": true
   },
   "outputs": [],
   "source": [
    "# Apply standardization\n",
    "X = scaler.transform(X)"
   ]
  },
  {
   "cell_type": "code",
   "execution_count": 22,
   "metadata": {
    "collapsed": false
   },
   "outputs": [
    {
     "name": "stdout",
     "output_type": "stream",
     "text": [
      "500\n"
     ]
    }
   ],
   "source": [
    "# Cut to input shape length (500 frames x 201 STFT bins)\n",
    "print(model.input_shape[1])\n",
    "X = X[:model.input_shape[1], :]"
   ]
  },
  {
   "cell_type": "code",
   "execution_count": 23,
   "metadata": {
    "collapsed": false
   },
   "outputs": [
    {
     "name": "stdout",
     "output_type": "stream",
     "text": [
      "X.shape: (500, 201)\n"
     ]
    }
   ],
   "source": [
    "print(\"X.shape:\", X.shape)"
   ]
  },
  {
   "cell_type": "code",
   "execution_count": 28,
   "metadata": {
    "collapsed": false
   },
   "outputs": [
    {
     "name": "stdout",
     "output_type": "stream",
     "text": [
      "Theta1:\n",
      " [ 5.   0.5 50. ]\n",
      "X1:\n",
      " [[0.16216216 0.21621622]\n",
      " [0.01621622 0.02162162]\n",
      " [1.62162162 2.16216216]]\n"
     ]
    }
   ],
   "source": [
    "# test, useless\n",
    "X1 = np.array([[3,4],[0.3,0.4],[30,40]])\n",
    "Theta1 = np.linalg.norm(X1, axis=1)\n",
    "X1 /= np.mean(Theta1)\n",
    "print(\"Theta1:\\n\", Theta1)\n",
    "print(\"X1:\\n\", X1)"
   ]
  },
  {
   "cell_type": "code",
   "execution_count": 25,
   "metadata": {
    "collapsed": false
   },
   "outputs": [
    {
     "name": "stdout",
     "output_type": "stream",
     "text": [
      "Theta.shape: (500,)\n",
      "X.shape: (500, 201)\n"
     ]
    }
   ],
   "source": [
    "# Apply normalization归一化; 二范数:平方和后求算术平方根; axis=1:按行向量处理\n",
    "Theta = np.linalg.norm(X, axis=1) + eps\n",
    "print(\"Theta.shape:\", Theta.shape)\n",
    "X /= np.mean(Theta)\n",
    "print(\"X.shape:\", X.shape)"
   ]
  },
  {
   "cell_type": "code",
   "execution_count": 30,
   "metadata": {
    "collapsed": false
   },
   "outputs": [
    {
     "name": "stdout",
     "output_type": "stream",
     "text": [
      "Xs.shape: (1, 500, 201)\n"
     ]
    }
   ],
   "source": [
    "# Add sample dimension, 表示只有一个样本\n",
    "Xs = X[np.newaxis, ...]\n",
    "print(\"Xs.shape:\", Xs.shape)"
   ]
  },
  {
   "cell_type": "code",
   "execution_count": 32,
   "metadata": {
    "collapsed": false
   },
   "outputs": [
    {
     "name": "stdout",
     "output_type": "stream",
     "text": [
      "ys:\n",
      " [[1.4688802e-10 1.3538984e-17 4.1643564e-09 2.1747644e-04 7.2500065e-02\n",
      "  7.2199446e-01 1.9145003e-01 1.3670632e-02 1.6597265e-04 1.4802429e-06\n",
      "  1.4091490e-08]]\n",
      "predict_num: [5]\n",
      "Speaker Count Estimate:  5\n"
     ]
    }
   ],
   "source": [
    "# predict output\n",
    "ys = model.predict(Xs, verbose=0)\n",
    "print(\"ys:\\n\", ys)\n",
    "predict_num = np.argmax(ys, axis=1)\n",
    "print(\"predict_num:\", predict_num)\n",
    "print(\"Speaker Count Estimate: \", predict_num[0])"
   ]
  },
  {
   "cell_type": "markdown",
   "metadata": {
    "collapsed": true
   },
   "source": [
    "### Model Summary: \n",
    "Layer |  Layer Name | Input Shape | Output Shape \n",
    ":-: | :-: | :-: | :-: \n",
    "the First Layer  | BLSTM_1 | (?, 500, 201) | (?, 500, 60) \n",
    "the Second Layer | BLSTM_2 | (?, 500, 60)  | (?, 500, 40) \n",
    "the Third Layer  | BLSTM_3 | (?, 500, 40)  | (?, 500, 80)\n",
    "the Fourth Layer | maxpooling1d | (?, 500, 80) | (?, 250, 80) \n",
    "the Fifth Layer | flatten | (?, 250, 80) | (?, 20000) \n",
    "the Sixth Layer | dense | (?, 20000) | (?, 11) \n",
    "the Seventh Layer | activation | (?, 11) | (?, 11) \n",
    "\n",
    "\"?\" represents the number of samples.<br> "
   ]
  },
  {
   "cell_type": "code",
   "execution_count": 43,
   "metadata": {
    "collapsed": false,
    "scrolled": false
   },
   "outputs": [
    {
     "data": {
      "text/plain": [
       "[{'class_name': 'Bidirectional',\n",
       "  'config': {'batch_input_shape': (None, 500, 201),\n",
       "   'dtype': 'float32',\n",
       "   'layer': {'class_name': 'LSTM',\n",
       "    'config': {'activation': 'tanh',\n",
       "     'activity_regularizer': None,\n",
       "     'batch_input_shape': (None, None, None),\n",
       "     'bias_constraint': None,\n",
       "     'bias_initializer': {'class_name': 'Zeros', 'config': {}},\n",
       "     'bias_regularizer': None,\n",
       "     'dropout': 0.0,\n",
       "     'dtype': 'float32',\n",
       "     'go_backwards': False,\n",
       "     'implementation': 2,\n",
       "     'kernel_constraint': None,\n",
       "     'kernel_initializer': {'class_name': 'VarianceScaling',\n",
       "      'config': {'distribution': 'uniform',\n",
       "       'mode': 'fan_avg',\n",
       "       'scale': 1.0,\n",
       "       'seed': None}},\n",
       "     'kernel_regularizer': None,\n",
       "     'name': 'lstm_1',\n",
       "     'recurrent_activation': 'hard_sigmoid',\n",
       "     'recurrent_constraint': None,\n",
       "     'recurrent_dropout': 0.0,\n",
       "     'recurrent_initializer': {'class_name': 'Orthogonal',\n",
       "      'config': {'gain': 1.0, 'seed': None}},\n",
       "     'recurrent_regularizer': None,\n",
       "     'return_sequences': True,\n",
       "     'return_state': False,\n",
       "     'stateful': False,\n",
       "     'trainable': True,\n",
       "     'unit_forget_bias': True,\n",
       "     'units': 30,\n",
       "     'unroll': False,\n",
       "     'use_bias': True}},\n",
       "   'merge_mode': 'concat',\n",
       "   'name': 'bidirectional_1',\n",
       "   'trainable': True}},\n",
       " {'class_name': 'Bidirectional',\n",
       "  'config': {'layer': {'class_name': 'LSTM',\n",
       "    'config': {'activation': 'tanh',\n",
       "     'activity_regularizer': None,\n",
       "     'batch_input_shape': (None, None, None),\n",
       "     'bias_constraint': None,\n",
       "     'bias_initializer': {'class_name': 'Zeros', 'config': {}},\n",
       "     'bias_regularizer': None,\n",
       "     'dropout': 0.0,\n",
       "     'dtype': 'float32',\n",
       "     'go_backwards': False,\n",
       "     'implementation': 2,\n",
       "     'kernel_constraint': None,\n",
       "     'kernel_initializer': {'class_name': 'VarianceScaling',\n",
       "      'config': {'distribution': 'uniform',\n",
       "       'mode': 'fan_avg',\n",
       "       'scale': 1.0,\n",
       "       'seed': None}},\n",
       "     'kernel_regularizer': None,\n",
       "     'name': 'lstm_2',\n",
       "     'recurrent_activation': 'hard_sigmoid',\n",
       "     'recurrent_constraint': None,\n",
       "     'recurrent_dropout': 0.0,\n",
       "     'recurrent_initializer': {'class_name': 'Orthogonal',\n",
       "      'config': {'gain': 1.0, 'seed': None}},\n",
       "     'recurrent_regularizer': None,\n",
       "     'return_sequences': True,\n",
       "     'return_state': False,\n",
       "     'stateful': False,\n",
       "     'trainable': True,\n",
       "     'unit_forget_bias': True,\n",
       "     'units': 20,\n",
       "     'unroll': False,\n",
       "     'use_bias': True}},\n",
       "   'merge_mode': 'concat',\n",
       "   'name': 'bidirectional_2',\n",
       "   'trainable': True}},\n",
       " {'class_name': 'Bidirectional',\n",
       "  'config': {'layer': {'class_name': 'LSTM',\n",
       "    'config': {'activation': 'tanh',\n",
       "     'activity_regularizer': None,\n",
       "     'batch_input_shape': (None, None, None),\n",
       "     'bias_constraint': None,\n",
       "     'bias_initializer': {'class_name': 'Zeros', 'config': {}},\n",
       "     'bias_regularizer': None,\n",
       "     'dropout': 0.0,\n",
       "     'dtype': 'float32',\n",
       "     'go_backwards': False,\n",
       "     'implementation': 2,\n",
       "     'kernel_constraint': None,\n",
       "     'kernel_initializer': {'class_name': 'VarianceScaling',\n",
       "      'config': {'distribution': 'uniform',\n",
       "       'mode': 'fan_avg',\n",
       "       'scale': 1.0,\n",
       "       'seed': None}},\n",
       "     'kernel_regularizer': None,\n",
       "     'name': 'lstm_3',\n",
       "     'recurrent_activation': 'hard_sigmoid',\n",
       "     'recurrent_constraint': None,\n",
       "     'recurrent_dropout': 0.0,\n",
       "     'recurrent_initializer': {'class_name': 'Orthogonal',\n",
       "      'config': {'gain': 1.0, 'seed': None}},\n",
       "     'recurrent_regularizer': None,\n",
       "     'return_sequences': True,\n",
       "     'return_state': False,\n",
       "     'stateful': False,\n",
       "     'trainable': True,\n",
       "     'unit_forget_bias': True,\n",
       "     'units': 40,\n",
       "     'unroll': False,\n",
       "     'use_bias': True}},\n",
       "   'merge_mode': 'concat',\n",
       "   'name': 'bidirectional_3',\n",
       "   'trainable': True}},\n",
       " {'class_name': 'MaxPooling1D',\n",
       "  'config': {'name': 'maxpooling1d_1',\n",
       "   'padding': 'valid',\n",
       "   'pool_size': (2,),\n",
       "   'strides': (2,),\n",
       "   'trainable': True}},\n",
       " {'class_name': 'Flatten', 'config': {'name': 'flatten_1', 'trainable': True}},\n",
       " {'class_name': 'Dense',\n",
       "  'config': {'activation': 'linear',\n",
       "   'activity_regularizer': None,\n",
       "   'batch_input_shape': (None, 20000),\n",
       "   'bias_constraint': None,\n",
       "   'bias_initializer': {'class_name': 'Zeros', 'config': {}},\n",
       "   'bias_regularizer': None,\n",
       "   'dtype': 'float32',\n",
       "   'kernel_constraint': None,\n",
       "   'kernel_initializer': {'class_name': 'VarianceScaling',\n",
       "    'config': {'distribution': 'uniform',\n",
       "     'mode': 'fan_avg',\n",
       "     'scale': 1.0,\n",
       "     'seed': None}},\n",
       "   'kernel_regularizer': None,\n",
       "   'name': 'dense_1',\n",
       "   'trainable': True,\n",
       "   'units': 11,\n",
       "   'use_bias': True}},\n",
       " {'class_name': 'Activation',\n",
       "  'config': {'activation': 'softmax',\n",
       "   'name': 'activation_1',\n",
       "   'trainable': True}}]"
      ]
     },
     "execution_count": 43,
     "metadata": {},
     "output_type": "execute_result"
    }
   ],
   "source": [
    "# 打印模型配置信息\n",
    "model.get_config()"
   ]
  },
  {
   "cell_type": "code",
   "execution_count": null,
   "metadata": {
    "collapsed": true
   },
   "outputs": [],
   "source": []
  }
 ],
 "metadata": {
  "anaconda-cloud": {},
  "kernelspec": {
   "display_name": "Python [conda root]",
   "language": "python",
   "name": "conda-root-py"
  },
  "language_info": {
   "codemirror_mode": {
    "name": "ipython",
    "version": 3
   },
   "file_extension": ".py",
   "mimetype": "text/x-python",
   "name": "python",
   "nbconvert_exporter": "python",
   "pygments_lexer": "ipython3",
   "version": "3.5.2"
  }
 },
 "nbformat": 4,
 "nbformat_minor": 1
}
