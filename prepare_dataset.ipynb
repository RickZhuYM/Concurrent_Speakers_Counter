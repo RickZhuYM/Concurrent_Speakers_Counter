{
 "cells": [
  {
   "cell_type": "markdown",
   "metadata": {},
   "source": [
    "# 提取所有音频STFT特征, 并保存为.mat文件"
   ]
  },
  {
   "cell_type": "markdown",
   "metadata": {},
   "source": [
    "### 最好使用prepare_dataset.py"
   ]
  },
  {
   "cell_type": "code",
   "execution_count": 1,
   "metadata": {},
   "outputs": [],
   "source": [
    "import os\n",
    "import librosa\n",
    "from tqdm import tqdm\n",
    "import scipy.io as sio\n",
    "import numpy as np"
   ]
  },
  {
   "cell_type": "code",
   "execution_count": 3,
   "metadata": {},
   "outputs": [],
   "source": [
    "# 读取数据列表\n",
    "DATA_PATH = \"/mnt/hd8t/LibriCount10-0dB/test/\"   # 服务器下所有数据，语音和json文件一共11440条，单独的5720条\n",
    "wavfiles = [wav for wav in os.listdir(DATA_PATH) if wav[-3:] == \"wav\"]   # 所有.wav文件，格式为list"
   ]
  },
  {
   "cell_type": "code",
   "execution_count": 4,
   "metadata": {},
   "outputs": [
    {
     "data": {
      "text/plain": [
       "['3_bf7ac0.wav',\n",
       " '8_b8243c.wav',\n",
       " '10_93bec1.wav',\n",
       " '1_a40d2b.wav',\n",
       " '3_3e239a.wav',\n",
       " '3_a0d541.wav',\n",
       " '10_d9bc40.wav',\n",
       " '6_24a52c.wav',\n",
       " '3_b5dade.wav',\n",
       " '8_bbb7eb.wav']"
      ]
     },
     "execution_count": 4,
     "metadata": {},
     "output_type": "execute_result"
    }
   ],
   "source": [
    "wavfiles[:10]"
   ]
  },
  {
   "cell_type": "code",
   "execution_count": 7,
   "metadata": {},
   "outputs": [
    {
     "name": "stderr",
     "output_type": "stream",
     "text": [
      "100%|██████████| 5720/5720 [00:00<00:00, 764959.31it/s]\n"
     ]
    }
   ],
   "source": [
    "# 读取音频，并确保数据第一维大于等于500\n",
    "all_data = {}\n",
    "for wav in tqdm(wavfiles):  # 包含地址\n",
    "    data, sample_rate = librosa.load(DATA_PATH + wav, sr=16000)  # 采样率是16000Hz\n",
    "    #samples = librosa.resample(data, sample_rate, 8000)   # 降采样到8k，并直接抽取时域采样\n",
    "    mfcc = np.abs(librosa.stft(data, n_fft=400, hop_length=160)).T\n",
    "    all_data[wav] = mfcc"
   ]
  },
  {
   "cell_type": "code",
   "execution_count": 4,
   "metadata": {},
   "outputs": [
    {
     "name": "stdout",
     "output_type": "stream",
     "text": [
      "Shape: (20, 157)\n"
     ]
    },
    {
     "data": {
      "text/plain": [
       "array([[-2.04886415e+02, -1.94145940e+02, -2.07175912e+02, ...,\n",
       "        -1.85472394e+02, -2.42292002e+02, -3.14661732e+02],\n",
       "       [ 1.12298284e+02,  1.49094556e+02,  1.83593147e+02, ...,\n",
       "         1.71170049e+02,  1.92910149e+02,  1.70994846e+02],\n",
       "       [-3.41224902e+00, -1.35397824e+01, -2.97043140e+01, ...,\n",
       "        -2.14520863e+01, -1.25617468e+01,  2.60503964e+01],\n",
       "       ...,\n",
       "       [ 8.00656548e+00,  5.53748045e+00, -7.97440536e+00, ...,\n",
       "        -1.17454339e-01,  3.83255665e+00,  1.21876260e+01],\n",
       "       [ 2.19996118e+00,  5.39233042e+00,  7.74811164e+00, ...,\n",
       "        -8.95575288e+00, -1.16067913e+01, -7.23313347e+00],\n",
       "       [ 5.85831738e+00,  3.90767367e+00,  5.14828614e+00, ...,\n",
       "        -9.07079401e+00, -1.86401936e+00, -1.41877533e-01]])"
      ]
     },
     "execution_count": 4,
     "metadata": {},
     "output_type": "execute_result"
    }
   ],
   "source": [
    "anAudio = all_data['3_bf7ac0.wav']\n",
    "print(\"Shape:\", anAudio.shape)\n",
    "anAudio"
   ]
  },
  {
   "cell_type": "code",
   "execution_count": 5,
   "metadata": {},
   "outputs": [],
   "source": [
    "# 保存数据文件\n",
    "sio.savemat('mfcc.mat', all_data)"
   ]
  },
  {
   "cell_type": "code",
   "execution_count": null,
   "metadata": {},
   "outputs": [],
   "source": []
  }
 ],
 "metadata": {
  "kernelspec": {
   "display_name": "Python 3",
   "language": "python",
   "name": "python3"
  },
  "language_info": {
   "codemirror_mode": {
    "name": "ipython",
    "version": 3
   },
   "file_extension": ".py",
   "mimetype": "text/x-python",
   "name": "python",
   "nbconvert_exporter": "python",
   "pygments_lexer": "ipython3",
   "version": "3.6.4"
  }
 },
 "nbformat": 4,
 "nbformat_minor": 2
}
