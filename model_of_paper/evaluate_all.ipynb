{
 "cells": [
  {
   "cell_type": "markdown",
   "metadata": {},
   "source": [
    "# 使用官方数据给的模型验证所有数据集"
   ]
  },
  {
   "cell_type": "code",
   "execution_count": 2,
   "metadata": {},
   "outputs": [],
   "source": [
    "import numpy as np\n",
    "import os\n",
    "import keras\n",
    "from sklearn import preprocessing\n",
    "from tqdm import tqdm\n",
    "import scipy.io as sio\n",
    "\n",
    "os.environ[\"CUDA_VISIBLE_DEVICES\"] = \"0\"  # 设置gpu编号\n",
    "eps = np.finfo(np.float).eps"
   ]
  },
  {
   "cell_type": "code",
   "execution_count": 3,
   "metadata": {},
   "outputs": [],
   "source": [
    "import warnings\n",
    "warnings.filterwarnings(\"ignore\")\n",
    "\n",
    "# 读取模型及保存的音频数据\n",
    "all_data = sio.loadmat('../data/stft.mat')  # 读取时数据还包含'__version__'等3个无关信息\n",
    "model = keras.models.load_model('RNN_keras2.h5')\n",
    "# load standardisation parameters\n",
    "scaler = preprocessing.StandardScaler()\n",
    "with np.load('scaler.npz') as data:\n",
    "    scaler.mean_ = data['arr_0']\n",
    "    scaler.scale_ = data['arr_1']"
   ]
  },
  {
   "cell_type": "code",
   "execution_count": 4,
   "metadata": {},
   "outputs": [
    {
     "name": "stderr",
     "output_type": "stream",
     "text": [
      "100%|██████████| 5723/5723 [1:04:10<00:00,  1.49it/s]"
     ]
    },
    {
     "name": "stdout",
     "output_type": "stream",
     "text": [
      "所有数据数目(5720): 5720\n",
      "使用官方模型测试所有音频识别准确率为: 0.6667832167832168\n"
     ]
    },
    {
     "name": "stderr",
     "output_type": "stream",
     "text": [
      "\n"
     ]
    }
   ],
   "source": [
    "ori_labels = []\n",
    "predict_labels = []\n",
    "wav_num = 0\n",
    "correct_num = 0\n",
    "\n",
    "for wavfile in tqdm(all_data):  # wavfile是字典中音频的名字\n",
    "    if wavfile[-3:] != \"wav\":\n",
    "        continue\n",
    "\n",
    "    X = all_data[wavfile]\n",
    "    X = scaler.transform(X)   # apply standardization\n",
    "    X = X[:model.input_shape[1], :]   # cut to input shape length (500 frames x 201 STFT bins)\n",
    "    Theta = np.linalg.norm(X, axis=1) + eps  # apply normalization\n",
    "    X /= np.mean(Theta)\n",
    "    Xs = X[np.newaxis, ...]   # add sample dimension\n",
    "\n",
    "    # predict output\n",
    "    ys = model.predict(Xs, verbose=0)\n",
    "    predict_label = np.argmax(ys, axis=1)[0]  # 数字, int型\n",
    "\n",
    "    # 计数\n",
    "    wav_num += 1\n",
    "    label = wavfile[:wavfile.find('_')]  # 字符, '0','1','2',...,'10'\n",
    "    if int(predict_label) == int(label):\n",
    "        correct_num += 1\n",
    "    ori_labels.append(int(label))\n",
    "    predict_labels.append(predict_label)\n",
    "\n",
    "# 统计最后结果\n",
    "print(\"所有数据数目(5720):\", wav_num)\n",
    "print(\"使用官方模型测试所有音频识别准确率为:\", correct_num / wav_num)"
   ]
  },
  {
   "cell_type": "code",
   "execution_count": 5,
   "metadata": {
    "scrolled": true
   },
   "outputs": [
    {
     "name": "stdout",
     "output_type": "stream",
     "text": [
      "MAE: defaultdict(<class 'list'>, {3: 0.20192307692307693, 8: 0.8461538461538461, 10: 0.38846153846153847, 1: 0.013461538461538462, 6: 0.5769230769230769, 9: 0.7557692307692307, 4: 0.39615384615384613, 2: 0.14423076923076922, 0: 0.0, 5: 0.25769230769230766, 7: 0.5230769230769231})\n"
     ]
    }
   ],
   "source": [
    "from collections import defaultdict\n",
    "\n",
    "res_class = defaultdict(list)  # 原标签分类统计\n",
    "MAE_class = defaultdict(list)  # 计算每类的平均绝对误差\n",
    "\n",
    "for idx, value in enumerate(ori_labels):\n",
    "    res_class[value].append(predict_labels[idx])\n",
    "\n",
    "for key in res_class:\n",
    "    diff = [abs(val-key) for val in res_class[key]]\n",
    "    MAE_class[key] = sum(diff) / len(diff)\n",
    "print(\"MAE:\", MAE_class)"
   ]
  },
  {
   "cell_type": "code",
   "execution_count": 8,
   "metadata": {},
   "outputs": [
    {
     "data": {
      "text/plain": [
       "[0.0,\n",
       " 0.013461538461538462,\n",
       " 0.14423076923076922,\n",
       " 0.20192307692307693,\n",
       " 0.39615384615384613,\n",
       " 0.25769230769230766,\n",
       " 0.5769230769230769,\n",
       " 0.5230769230769231,\n",
       " 0.8461538461538461,\n",
       " 0.7557692307692307,\n",
       " 0.38846153846153847]"
      ]
     },
     "execution_count": 8,
     "metadata": {},
     "output_type": "execute_result"
    }
   ],
   "source": [
    "stft = [MAE_class[i] for i in range(11)]\n",
    "stft"
   ]
  },
  {
   "cell_type": "code",
   "execution_count": 15,
   "metadata": {},
   "outputs": [
    {
     "data": {
      "image/png": "[encoded data removed]",
      "text/plain": [
       "<matplotlib.figure.Figure at 0x7ffa2400b400>"
      ]
     },
     "metadata": {},
     "output_type": "display_data"
    }
   ],
   "source": [
    "import matplotlib.pyplot as plt\n",
    "\n",
    "plt.plot(stft)\n",
    "plt.grid()\n",
    "plt.xlabel('k')\n",
    "plt.ylabel('MAE')\n",
    "plt.xlim((0, 10))\n",
    "plt.ylim((0, 1.2))\n",
    "plt.show()"
   ]
  },
  {
   "cell_type": "code",
   "execution_count": null,
   "metadata": {},
   "outputs": [],
   "source": []
  }
 ],
 "metadata": {
  "kernelspec": {
   "display_name": "Python 3",
   "language": "python",
   "name": "python3"
  },
  "language_info": {
   "codemirror_mode": {
    "name": "ipython",
    "version": 3
   },
   "file_extension": ".py",
   "mimetype": "text/x-python",
   "name": "python",
   "nbconvert_exporter": "python",
   "pygments_lexer": "ipython3",
   "version": "3.6.5"
  }
 },
 "nbformat": 4,
 "nbformat_minor": 2
}
